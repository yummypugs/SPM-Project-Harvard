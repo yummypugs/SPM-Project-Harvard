{
 "cells": [
  {
   "cell_type": "markdown",
   "metadata": {},
   "source": [
    "## PDF Scraper \n",
    "### We created a pdf scraper that will loook into the yearly reports from a company and check/compile which SDG they are looking into. We visualize the data to show which was used through the years."
   ]
  },
  {
   "cell_type": "code",
   "execution_count": 1,
   "metadata": {},
   "outputs": [],
   "source": [
    "import re\n",
    "from pdfminer.high_level import extract_text\n",
    "import pandas as pd\n",
    "import matplotlib.pyplot as plt\n",
    "import numpy as np"
   ]
  },
  {
   "cell_type": "code",
   "execution_count": 2,
   "metadata": {},
   "outputs": [],
   "source": [
    "def extract_text_counts(pdf_file_path, search_patterns):\n",
    "    \"\"\"_summary_\n",
    "    Extract text from pdf file and get the counts of the occurrence of\n",
    "    each search pattern.\n",
    "\n",
    "    Args:\n",
    "        pdf_file_path (string): filepath of the pdf file.\n",
    "        search_patterns (list<string/regex>): list of search patterns can be string or regular expression.\n",
    "    Returns:\n",
    "        Dicionary: containing the text found and their occurrence count.\n",
    "    \"\"\"\n",
    "    \n",
    "    # Initialize a dictionary to store the counts of each found phrase\n",
    "    phrase_counts = {}\n",
    "    \n",
    "    # Extract text from the PDF\n",
    "    text = extract_text(pdf_file_path)\n",
    "    \n",
    "    # Search for the specified patterns and update counts\n",
    "    for pattern in search_patterns:\n",
    "        matches = re.finditer(pattern, text)\n",
    "        for match in matches:\n",
    "            \n",
    "            matched_phrase = match.group(0)  # Get the matched phrase\n",
    "            matched_phrase = matched_phrase.upper()\n",
    "            \n",
    "            parts = matched_phrase.split(' ', 1)\n",
    "\n",
    "            # Check if there's a space and at least one character after it\n",
    "            if len(parts) == 2:\n",
    "                prefix = 'SDG'\n",
    "                rest_of_string = parts[1]\n",
    "                matched_phrase = f'{prefix} {rest_of_string}'\n",
    "            \n",
    "            if matched_phrase not in phrase_counts:\n",
    "                phrase_counts[matched_phrase] = 1\n",
    "            #else:\n",
    "            #    phrase_counts[matched_phrase] += 1\n",
    "                \n",
    "    return phrase_counts\n",
    "    "
   ]
  },
  {
   "cell_type": "code",
   "execution_count": 3,
   "metadata": {},
   "outputs": [],
   "source": [
    "def display_counts(phrase_counts):\n",
    "    \"\"\"_summary_\n",
    "    Iterate through the dictionary and display the counts for each pattern.\n",
    "\n",
    "    Args:\n",
    "        phrase_counts (dictionary): contains the text found and their occurrence count.\n",
    "        \n",
    "    Returns:\n",
    "        None\n",
    "    \"\"\"\n",
    "    # Output the found phrases and their counts\n",
    "    for pattern, counts in phrase_counts.items():\n",
    "        print(f\"{pattern} count: {counts}\")\n",
    "    "
   ]
  },
  {
   "cell_type": "code",
   "execution_count": 4,
   "metadata": {},
   "outputs": [],
   "source": [
    "def custom_sort_key(target):\n",
    "    \"\"\"_summary_\n",
    "\n",
    "    Args:\n",
    "        target (string): text that will be given a weight for sorting\n",
    "\n",
    "    Returns:\n",
    "        float: returns the weight that will be associated with the text that was passed\n",
    "    \"\"\"\n",
    "    \n",
    "    # get the X.Y part of the targets and separate them to 2 parts\n",
    "    match = re.search(r'(\\d+)\\.(\\w+)', target)\n",
    "    if match:\n",
    "        num_part = match.group(1)\n",
    "        alpha_part = match.group(2)    \n",
    "    \n",
    "    # if the 2nd part is a letter convert it to its ascii and divide that value by 1000 to ensure its always on top\n",
    "    # while still being sorted among the letters. Otherwise it will convert the match to float and use as is\n",
    "    if alpha_part.isalpha():\n",
    "        alpha_part = ord(alpha_part) / 1000         # convert to ascii value and divide by 1000 to ensure its always on top\n",
    "        num_part = float(num_part) + alpha_part     # combine them back together \n",
    "    else:\n",
    "        num_part = float(match.group(0))\n",
    "    \n",
    "    return (num_part)"
   ]
  },
  {
   "cell_type": "code",
   "execution_count": 5,
   "metadata": {},
   "outputs": [],
   "source": [
    "def plot_results(results):\n",
    "    \"\"\"_summary_\n",
    "    Takes the results dictionary and shows a heatmap of which SDGs are being supported/used per year.\n",
    "\n",
    "    Args:\n",
    "        results (dictionary): containing the year as key and text found with their occurrence count as value\n",
    "    Returns:\n",
    "        None\n",
    "    \"\"\"\n",
    "    data = results\n",
    "    targets = list(set(target for year_data in data.values() for target in year_data.keys()))\n",
    "    targets = sorted(targets, key=custom_sort_key)\n",
    "    years = list(data.keys())\n",
    "\n",
    "    # Create a matrix to store the data\n",
    "    matrix = [[data[year].get(target, 0) for year in years] for target in targets]\n",
    "\n",
    "    # Transpose the matrix to flip the axes\n",
    "    transposed_matrix = np.transpose(matrix)\n",
    "    \n",
    "\n",
    "    # Swap the labels for x and y axes\n",
    "    x_labels = targets\n",
    "    y_labels = years\n",
    "\n",
    "    fig, ax = plt.subplots(figsize=(15, 10))\n",
    "    cax = ax.matshow(transposed_matrix, cmap=plt.cm.Blues)\n",
    "\n",
    "    # Adjust tick spacing\n",
    "    ax.set_xticks(np.arange(len(x_labels)))\n",
    "    ax.set_yticks(np.arange(len(y_labels)))\n",
    "\n",
    "    # Label the ticks\n",
    "    ax.set_xticklabels(x_labels)\n",
    "    ax.set_yticklabels(y_labels)\n",
    "\n",
    "    # Rotate the y-axis labels for better readability\n",
    "    plt.setp(ax.get_xticklabels(), rotation=80)\n",
    "\n",
    "    plt.xlabel('Targets')  # Update the label for x-axis\n",
    "    plt.ylabel('Year')     # Update the label for y-axis\n",
    "\n",
    "    plt.title('SDG Targets Focused Each Year')\n",
    "\n",
    "    plt.show()"
   ]
  },
  {
   "cell_type": "code",
   "execution_count": 6,
   "metadata": {},
   "outputs": [],
   "source": [
    "# Dictionary that contains the paths of the reports as values and the year as keys\n",
    "pdf_file_paths = {\n",
    "    \"2018\" : \"Documents/OBP-Report-EN-2018.pdf\",\n",
    "    \"2019\" : \"Documents/2019-SDG-Report-FINAL_1.pdf\",\n",
    "    \"2020\" : \"Documents/SDG-Report_2020_EN.pdf\",\n",
    "    \"2021\" : \"Documents/SDG-Report-2021-EN.pdf\",\n",
    "    \"2022\" : \"Documents/SDG Report 2022.pdf\",\n",
    "}\n",
    "\n",
    "# Initialize the results dictionary that will contain the serach results per year\n",
    "results = {}\n",
    "\n",
    "# Initialize the search patterns we will use.\n",
    "search_patterns = [\n",
    "    r\"Target (\\d+\\.\\d+)\",  # Example regular expression: \"Target 1.2\"\n",
    "    r\"Target (\\d+\\.[a-zA-Z]+)\",  # Example regular expression: \"Target 1.B\"\n",
    "    r\"SDG (\\d+\\.\\d+)\",  # Example regular expression: \"SDG 1.2\"\n",
    "    r\"SDG (\\d+\\.[a-zA-Z]+)\",  # Example regular expression: \"SDG 1.B\"\n",
    "]\n",
    "\n",
    "# Runs the extract_text_counts() for each year and storing them in results\n",
    "for key, pdf_file_path in pdf_file_paths.items():\n",
    "    phrase_counts = extract_text_counts(pdf_file_path= pdf_file_path, search_patterns=search_patterns)\n",
    "    results[key] = phrase_counts\n"
   ]
  },
  {
   "cell_type": "code",
   "execution_count": 7,
   "metadata": {},
   "outputs": [
    {
     "data": {
      "image/png": "[encoded data removed]",
      "text/plain": [
       "<Figure size 1500x1000 with 1 Axes>"
      ]
     },
     "metadata": {},
     "output_type": "display_data"
    }
   ],
   "source": [
    "#plots the results    \n",
    "plot_results(results=results)"
   ]
  },
  {
   "cell_type": "code",
   "execution_count": null,
   "metadata": {},
   "outputs": [],
   "source": []
  }
 ],
 "metadata": {
  "kernelspec": {
   "display_name": "PythonBase",
   "language": "python",
   "name": "python3"
  },
  "language_info": {
   "codemirror_mode": {
    "name": "ipython",
    "version": 3
   },
   "file_extension": ".py",
   "mimetype": "text/x-python",
   "name": "python",
   "nbconvert_exporter": "python",
   "pygments_lexer": "ipython3",
   "version": "3.11.5"
  },
  "orig_nbformat": 4
 },
 "nbformat": 4,
 "nbformat_minor": 2
}
