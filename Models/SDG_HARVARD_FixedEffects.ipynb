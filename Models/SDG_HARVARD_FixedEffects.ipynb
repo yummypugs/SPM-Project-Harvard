{
 "cells": [
  {
   "cell_type": "code",
   "execution_count": null,
   "metadata": {},
   "outputs": [],
   "source": [
    "from google.colab import drive\n",
    "drive.mount('/content/drive')"
   ]
  },
  {
   "cell_type": "code",
   "execution_count": 3,
   "metadata": {},
   "outputs": [],
   "source": [
    "import pandas as pd\n",
    "import matplotlib.pyplot as plt\n",
    "from matplotlib.ticker import FuncFormatter\n",
    "import numpy as np\n",
    "import pandas as pd\n",
    "import statsmodels.api as sm\n",
    "from sklearn.ensemble import GradientBoostingRegressor\n",
    "from sklearn.model_selection import train_test_split\n",
    "from sklearn.metrics import mean_squared_error\n",
    "from sklearn.linear_model import Ridge\n",
    "from sklearn.preprocessing import StandardScaler\n",
    "from sklearn.linear_model import Lasso"
   ]
  },
  {
   "cell_type": "markdown",
   "metadata": {},
   "source": [
    "## Load the excel file into a dataframe "
   ]
  },
  {
   "cell_type": "code",
   "execution_count": 28,
   "metadata": {},
   "outputs": [
    {
     "data": {
      "text/html": [
       "<div>\n",
       "<style scoped>\n",
       "    .dataframe tbody tr th:only-of-type {\n",
       "        vertical-align: middle;\n",
       "    }\n",
       "\n",
       "    .dataframe tbody tr th {\n",
       "        vertical-align: top;\n",
       "    }\n",
       "\n",
       "    .dataframe thead th {\n",
       "        text-align: right;\n",
       "    }\n",
       "</style>\n",
       "<table border=\"1\" class=\"dataframe\">\n",
       "  <thead>\n",
       "    <tr style=\"text-align: right;\">\n",
       "      <th></th>\n",
       "      <th>Year</th>\n",
       "      <th>Company Name</th>\n",
       "      <th>Country</th>\n",
       "      <th>GICS Sub-Industry</th>\n",
       "      <th>Industry (Exiobase)</th>\n",
       "      <th>Environmental Intensity (Sales)</th>\n",
       "      <th>Environmental Intensity (Op Inc)</th>\n",
       "      <th>Total Environmental Cost</th>\n",
       "      <th>Working Capacity</th>\n",
       "      <th>Fish Production Capacity</th>\n",
       "      <th>...</th>\n",
       "      <th>SDG 14.1</th>\n",
       "      <th>SDG 14.2</th>\n",
       "      <th>SDG 14.3</th>\n",
       "      <th>SDG 14.c</th>\n",
       "      <th>SDG 15.1</th>\n",
       "      <th>SDG 15.2</th>\n",
       "      <th>SDG 15.5</th>\n",
       "      <th>% Imputed</th>\n",
       "      <th>Revenue</th>\n",
       "      <th>Operating Income</th>\n",
       "    </tr>\n",
       "  </thead>\n",
       "  <tbody>\n",
       "    <tr>\n",
       "      <th>0</th>\n",
       "      <td>2019</td>\n",
       "      <td>SAGA PLC</td>\n",
       "      <td>UNITED KINGDOM OF GREAT BRITAIN AND NORTHERN I...</td>\n",
       "      <td>Multi-line Insurance</td>\n",
       "      <td>Activities auxiliary to financial intermediati...</td>\n",
       "      <td>-2.887178</td>\n",
       "      <td>-13.025357</td>\n",
       "      <td>-3.184231e+07</td>\n",
       "      <td>-3.115075e+07</td>\n",
       "      <td>-7184.203318</td>\n",
       "      <td>...</td>\n",
       "      <td>-4.739468</td>\n",
       "      <td>-1.027193</td>\n",
       "      <td>-3584.970569</td>\n",
       "      <td>-5.649112</td>\n",
       "      <td>70.667599</td>\n",
       "      <td>70.667599</td>\n",
       "      <td>-1297.277948</td>\n",
       "      <td>0.006135</td>\n",
       "      <td>1.102887e+09</td>\n",
       "      <td>244464000.0</td>\n",
       "    </tr>\n",
       "    <tr>\n",
       "      <th>1</th>\n",
       "      <td>2019</td>\n",
       "      <td>BURSA MALAYSIA BHD</td>\n",
       "      <td>MALAYSIA</td>\n",
       "      <td>Financial Exchanges &amp; Data</td>\n",
       "      <td>Activities auxiliary to financial intermediati...</td>\n",
       "      <td>-1.677157</td>\n",
       "      <td>-3.465639</td>\n",
       "      <td>-1.968379e+06</td>\n",
       "      <td>-1.924910e+06</td>\n",
       "      <td>-451.342112</td>\n",
       "      <td>...</td>\n",
       "      <td>-1.410813</td>\n",
       "      <td>-1.207108</td>\n",
       "      <td>-222.196310</td>\n",
       "      <td>-1.681590</td>\n",
       "      <td>10.138780</td>\n",
       "      <td>10.138780</td>\n",
       "      <td>-79.398691</td>\n",
       "      <td>0.043215</td>\n",
       "      <td>1.173640e+08</td>\n",
       "      <td>56797000.0</td>\n",
       "    </tr>\n",
       "    <tr>\n",
       "      <th>2</th>\n",
       "      <td>2019</td>\n",
       "      <td>INTERTEK GROUP PLC</td>\n",
       "      <td>UNITED KINGDOM OF GREAT BRITAIN AND NORTHERN I...</td>\n",
       "      <td>Research &amp; Consulting Services</td>\n",
       "      <td>Activities auxiliary to financial intermediati...</td>\n",
       "      <td>-1.529690</td>\n",
       "      <td>-9.487849</td>\n",
       "      <td>-6.059927e+07</td>\n",
       "      <td>-5.928166e+07</td>\n",
       "      <td>-13774.014902</td>\n",
       "      <td>...</td>\n",
       "      <td>-17.024036</td>\n",
       "      <td>-3.689647</td>\n",
       "      <td>-6861.392776</td>\n",
       "      <td>-20.291452</td>\n",
       "      <td>253.836024</td>\n",
       "      <td>253.836024</td>\n",
       "      <td>-2470.054721</td>\n",
       "      <td>0.011467</td>\n",
       "      <td>3.961539e+09</td>\n",
       "      <td>638704000.0</td>\n",
       "    </tr>\n",
       "    <tr>\n",
       "      <th>3</th>\n",
       "      <td>2019</td>\n",
       "      <td>JSE LIMITED</td>\n",
       "      <td>SOUTH AFRICA</td>\n",
       "      <td>Financial Exchanges &amp; Data</td>\n",
       "      <td>Activities auxiliary to financial intermediati...</td>\n",
       "      <td>-1.462497</td>\n",
       "      <td>NaN</td>\n",
       "      <td>-2.290124e+06</td>\n",
       "      <td>-2.239814e+06</td>\n",
       "      <td>-510.210093</td>\n",
       "      <td>...</td>\n",
       "      <td>-0.189720</td>\n",
       "      <td>-1.009642</td>\n",
       "      <td>-253.366805</td>\n",
       "      <td>-0.226133</td>\n",
       "      <td>-3.169102</td>\n",
       "      <td>-3.169102</td>\n",
       "      <td>-92.619013</td>\n",
       "      <td>0.016390</td>\n",
       "      <td>1.565900e+08</td>\n",
       "      <td>NaN</td>\n",
       "    </tr>\n",
       "    <tr>\n",
       "      <th>4</th>\n",
       "      <td>2019</td>\n",
       "      <td>BUREAU VERITAS SA</td>\n",
       "      <td>FRANCE</td>\n",
       "      <td>Research &amp; Consulting Services</td>\n",
       "      <td>Activities auxiliary to financial intermediati...</td>\n",
       "      <td>-0.699273</td>\n",
       "      <td>-5.095678</td>\n",
       "      <td>-3.997865e+07</td>\n",
       "      <td>-3.910761e+07</td>\n",
       "      <td>-9330.459280</td>\n",
       "      <td>...</td>\n",
       "      <td>-37.818819</td>\n",
       "      <td>-9.136488</td>\n",
       "      <td>-4606.916825</td>\n",
       "      <td>-45.077368</td>\n",
       "      <td>586.030400</td>\n",
       "      <td>586.030400</td>\n",
       "      <td>-1632.997165</td>\n",
       "      <td>0.033005</td>\n",
       "      <td>5.717172e+09</td>\n",
       "      <td>784560000.0</td>\n",
       "    </tr>\n",
       "  </tbody>\n",
       "</table>\n",
       "<p>5 rows × 36 columns</p>\n",
       "</div>"
      ],
      "text/plain": [
       "   Year        Company Name  \\\n",
       "0  2019            SAGA PLC   \n",
       "1  2019  BURSA MALAYSIA BHD   \n",
       "2  2019  INTERTEK GROUP PLC   \n",
       "3  2019         JSE LIMITED   \n",
       "4  2019   BUREAU VERITAS SA   \n",
       "\n",
       "                                             Country  \\\n",
       "0  UNITED KINGDOM OF GREAT BRITAIN AND NORTHERN I...   \n",
       "1                                           MALAYSIA   \n",
       "2  UNITED KINGDOM OF GREAT BRITAIN AND NORTHERN I...   \n",
       "3                                       SOUTH AFRICA   \n",
       "4                                             FRANCE   \n",
       "\n",
       "                GICS Sub-Industry  \\\n",
       "0            Multi-line Insurance   \n",
       "1      Financial Exchanges & Data   \n",
       "2  Research & Consulting Services   \n",
       "3      Financial Exchanges & Data   \n",
       "4  Research & Consulting Services   \n",
       "\n",
       "                                 Industry (Exiobase)  \\\n",
       "0  Activities auxiliary to financial intermediati...   \n",
       "1  Activities auxiliary to financial intermediati...   \n",
       "2  Activities auxiliary to financial intermediati...   \n",
       "3  Activities auxiliary to financial intermediati...   \n",
       "4  Activities auxiliary to financial intermediati...   \n",
       "\n",
       "   Environmental Intensity (Sales)  Environmental Intensity (Op Inc)  \\\n",
       "0                        -2.887178                        -13.025357   \n",
       "1                        -1.677157                         -3.465639   \n",
       "2                        -1.529690                         -9.487849   \n",
       "3                        -1.462497                               NaN   \n",
       "4                        -0.699273                         -5.095678   \n",
       "\n",
       "   Total Environmental Cost  Working Capacity  Fish Production Capacity  ...  \\\n",
       "0             -3.184231e+07     -3.115075e+07              -7184.203318  ...   \n",
       "1             -1.968379e+06     -1.924910e+06               -451.342112  ...   \n",
       "2             -6.059927e+07     -5.928166e+07             -13774.014902  ...   \n",
       "3             -2.290124e+06     -2.239814e+06               -510.210093  ...   \n",
       "4             -3.997865e+07     -3.910761e+07              -9330.459280  ...   \n",
       "\n",
       "    SDG 14.1  SDG 14.2     SDG 14.3   SDG 14.c    SDG 15.1    SDG 15.2  \\\n",
       "0  -4.739468 -1.027193 -3584.970569  -5.649112   70.667599   70.667599   \n",
       "1  -1.410813 -1.207108  -222.196310  -1.681590   10.138780   10.138780   \n",
       "2 -17.024036 -3.689647 -6861.392776 -20.291452  253.836024  253.836024   \n",
       "3  -0.189720 -1.009642  -253.366805  -0.226133   -3.169102   -3.169102   \n",
       "4 -37.818819 -9.136488 -4606.916825 -45.077368  586.030400  586.030400   \n",
       "\n",
       "      SDG 15.5  % Imputed       Revenue  Operating Income  \n",
       "0 -1297.277948   0.006135  1.102887e+09       244464000.0  \n",
       "1   -79.398691   0.043215  1.173640e+08        56797000.0  \n",
       "2 -2470.054721   0.011467  3.961539e+09       638704000.0  \n",
       "3   -92.619013   0.016390  1.565900e+08               NaN  \n",
       "4 -1632.997165   0.033005  5.717172e+09       784560000.0  \n",
       "\n",
       "[5 rows x 36 columns]"
      ]
     },
     "execution_count": 28,
     "metadata": {},
     "output_type": "execute_result"
    }
   ],
   "source": [
    "#df = pd.read_excel(\"IWA.xlsx\", sheet_name='Final Raw Sample(3%)')\n",
    "df = pd.read_excel(\"IWA.xlsx\", sheet_name='Final Raw Sample(0%)')\n",
    "df[\"Revenue\"] = df[\"Total Environmental Cost\"]/df[\"Environmental Intensity (Sales)\"]\n",
    "df[\"Operating Income\"] = df[\"Total Environmental Cost\"]/df[\"Environmental Intensity (Op Inc)\"]\n",
    "df[\"Environmental Intensity (Op Inc)\"] = df[\"Environmental Intensity (Op Inc)\"]*100\n",
    "df[\"Environmental Intensity (Sales)\"] = df[\"Environmental Intensity (Sales)\"]*100\n",
    "df.dropna()\n",
    "df.head()"
   ]
  },
  {
   "cell_type": "markdown",
   "metadata": {},
   "source": [
    "## Filter out the outliers in the data"
   ]
  },
  {
   "cell_type": "code",
   "execution_count": 54,
   "metadata": {},
   "outputs": [],
   "source": [
    "Q1 = df['Environmental Intensity (Op Inc)'].quantile(0.25)\n",
    "Q3 = df['Environmental Intensity (Op Inc)'].quantile(0.75)\n",
    "\n",
    "# Calculate the IQR (Interquartile Range)\n",
    "IQR = Q3 - Q1\n",
    "\n",
    "# Define lower and upper bounds for outliers\n",
    "lower_bound = Q1 - 1.5 * IQR\n",
    "upper_bound = Q3 + 1.5 * IQR\n",
    "\n",
    "# Filter outliers based on the IQR method\n",
    "df_cleaned = df[(df['Environmental Intensity (Op Inc)'] >= lower_bound) & (df['Environmental Intensity (Op Inc)'] <= upper_bound)]\n"
   ]
  },
  {
   "cell_type": "markdown",
   "metadata": {},
   "source": [
    "## Function to run the Fixed Effects and return the r squared value"
   ]
  },
  {
   "cell_type": "code",
   "execution_count": 52,
   "metadata": {},
   "outputs": [],
   "source": [
    "def runFixedEffects(X, y, df_selected, list_effectNames):\n",
    "    list_df_Effects = list()\n",
    "\n",
    "    # Create as list of the dummy variables for the fixed effects \n",
    "    for columnName in list_effectNames:\n",
    "        df_temp = pd.get_dummies(df_selected[columnName], drop_first=True)\n",
    "        df_temp = df_temp.astype(int)\n",
    "        list_df_Effects.append(df_temp)\n",
    "    \n",
    "    # Add the dummies to the independent variables\n",
    "    X = pd.concat(list_df_Effects, axis=1)\n",
    "    # Add a constant (intercept) to the independent variables\n",
    "    X = sm.add_constant(X)\n",
    "    \n",
    "    # Fit the OLS model\n",
    "    model = sm.OLS(y, X).fit() \n",
    "    \n",
    "    # Calculate  and return the adjusted R-squared\n",
    "    adjusted_r_squared = 1 - (1 - model.rsquared) * (len(y) - 1) / (len(y) - X.shape[1] - 1)\n",
    "    \n",
    "    return adjusted_r_squared"
   ]
  },
  {
   "cell_type": "markdown",
   "metadata": {},
   "source": [
    "## setup which dependent and independent variables to use"
   ]
  },
  {
   "cell_type": "code",
   "execution_count": 55,
   "metadata": {},
   "outputs": [],
   "source": [
    "harvard_set = [\"Working Capacity\", \"Fish Production Capacity\", \"Crop Production Capacity\",\n",
    "                      \"Meat Production Capacity\", \"Biodiversity\", \"Abiotic Resources\",\n",
    "                      \"Water production capacity (Drinking water & Irrigation Water)\", \"Wood Production Capacity\"]\n",
    "\n",
    "sdg_set = [\"SDG 1.5\", \"SDG 2.1\", \"SDG 2.2\", \"SDG 2.3\", \"SDG 2.4\", \"SDG 3.3\", \n",
    "                         \"SDG 3.4\", \"SDG 3.9\", \"SDG 6\", \"SDG 12.2\", \"SDG 14.1\", \"SDG 14.2\", \n",
    "                         \"SDG 14.3\", \"SDG 14.c\", \"SDG 15.1\", \"SDG 15.2\", \"SDG 15.5\"]\n",
    "\n",
    "independentVariables = sdg_set"
   ]
  },
  {
   "cell_type": "code",
   "execution_count": 65,
   "metadata": {},
   "outputs": [],
   "source": [
    "y_sales = df_cleaned[\"Environmental Intensity (Sales)\"]\n",
    "y_opinc = df_cleaned[\"Environmental Intensity (Op Inc)\"]\n",
    "X = df_cleaned[independentVariables]"
   ]
  },
  {
   "cell_type": "markdown",
   "metadata": {},
   "source": [
    "## Fixed Effect: Year\n",
    "#### sales"
   ]
  },
  {
   "cell_type": "code",
   "execution_count": 66,
   "metadata": {},
   "outputs": [
    {
     "name": "stdout",
     "output_type": "stream",
     "text": [
      "Adjusted R-squared (Fixed on Year): 0.000044\n"
     ]
    }
   ],
   "source": [
    "list_effectNames = ['Year']\n",
    "adjusted_r_squared = runFixedEffects(X,y_sales,df_cleaned, list_effectNames)\n",
    "print(f'Adjusted R-squared (Fixed on Year): {adjusted_r_squared:.6f}')"
   ]
  },
  {
   "cell_type": "markdown",
   "metadata": {},
   "source": [
    "#### op income"
   ]
  },
  {
   "cell_type": "code",
   "execution_count": 67,
   "metadata": {},
   "outputs": [
    {
     "name": "stdout",
     "output_type": "stream",
     "text": [
      "Adjusted R-squared (Fixed on Year): -0.000587\n"
     ]
    }
   ],
   "source": [
    "list_effectNames = ['Year']\n",
    "adjusted_r_squared = runFixedEffects(X,y_opinc,df_cleaned, list_effectNames)\n",
    "print(f'Adjusted R-squared (Fixed on Year): {adjusted_r_squared:.6f}')"
   ]
  },
  {
   "cell_type": "markdown",
   "metadata": {},
   "source": [
    "## Fixed Effect: Year and GICS Sub-Industry\n",
    "#### sales"
   ]
  },
  {
   "cell_type": "code",
   "execution_count": 68,
   "metadata": {},
   "outputs": [
    {
     "name": "stdout",
     "output_type": "stream",
     "text": [
      "Adjusted R-squared (Fixed on Year and GICS Sub-Industry): 0.3995\n"
     ]
    }
   ],
   "source": [
    "list_effectNames = ['Year', 'GICS Sub-Industry']\n",
    "adjusted_r_squared = runFixedEffects(X,y_sales,df_cleaned, list_effectNames)\n",
    "print(f'Adjusted R-squared (Fixed on Year and GICS Sub-Industry): {adjusted_r_squared:.4f}')"
   ]
  },
  {
   "cell_type": "markdown",
   "metadata": {},
   "source": [
    "#### op income"
   ]
  },
  {
   "cell_type": "code",
   "execution_count": 69,
   "metadata": {},
   "outputs": [
    {
     "name": "stdout",
     "output_type": "stream",
     "text": [
      "Adjusted R-squared (Fixed on Year and GICS Sub-Industry): 0.4150\n"
     ]
    }
   ],
   "source": [
    "list_effectNames = ['Year', 'GICS Sub-Industry']\n",
    "adjusted_r_squared = runFixedEffects(X,y_opinc,df_cleaned, list_effectNames)\n",
    "print(f'Adjusted R-squared (Fixed on Year and GICS Sub-Industry): {adjusted_r_squared:.4f}')"
   ]
  },
  {
   "cell_type": "markdown",
   "metadata": {},
   "source": [
    "## Fixed Effect: Year and Industry (Exiobase)\n",
    "#### sales"
   ]
  },
  {
   "cell_type": "code",
   "execution_count": 70,
   "metadata": {},
   "outputs": [
    {
     "name": "stdout",
     "output_type": "stream",
     "text": [
      "Adjusted R-squared (Fixed on Year and Industry (Exiobase)): 0.3108\n"
     ]
    }
   ],
   "source": [
    "list_effectNames = ['Year', 'Industry (Exiobase)']\n",
    "adjusted_r_squared = runFixedEffects(X,y_sales,df_cleaned, list_effectNames)\n",
    "print(f'Adjusted R-squared (Fixed on Year and Industry (Exiobase)): {adjusted_r_squared:.4f}')"
   ]
  },
  {
   "cell_type": "markdown",
   "metadata": {},
   "source": [
    "#### op income"
   ]
  },
  {
   "cell_type": "code",
   "execution_count": 71,
   "metadata": {},
   "outputs": [
    {
     "name": "stdout",
     "output_type": "stream",
     "text": [
      "Adjusted R-squared (Fixed on Year and Industry (Exiobase)): 0.3334\n"
     ]
    }
   ],
   "source": [
    "list_effectNames = ['Year', 'Industry (Exiobase)']\n",
    "adjusted_r_squared = runFixedEffects(X,y_opinc,df_cleaned, list_effectNames)\n",
    "print(f'Adjusted R-squared (Fixed on Year and Industry (Exiobase)): {adjusted_r_squared:.4f}')"
   ]
  },
  {
   "cell_type": "markdown",
   "metadata": {},
   "source": [
    "## Same effects but only the brewers"
   ]
  },
  {
   "cell_type": "code",
   "execution_count": 39,
   "metadata": {},
   "outputs": [
    {
     "data": {
      "text/html": [
       "<div>\n",
       "<style scoped>\n",
       "    .dataframe tbody tr th:only-of-type {\n",
       "        vertical-align: middle;\n",
       "    }\n",
       "\n",
       "    .dataframe tbody tr th {\n",
       "        vertical-align: top;\n",
       "    }\n",
       "\n",
       "    .dataframe thead th {\n",
       "        text-align: right;\n",
       "    }\n",
       "</style>\n",
       "<table border=\"1\" class=\"dataframe\">\n",
       "  <thead>\n",
       "    <tr style=\"text-align: right;\">\n",
       "      <th></th>\n",
       "      <th>Year</th>\n",
       "      <th>Company Name</th>\n",
       "      <th>Country</th>\n",
       "      <th>GICS Sub-Industry</th>\n",
       "      <th>Industry (Exiobase)</th>\n",
       "      <th>Environmental Intensity (Sales)</th>\n",
       "      <th>Environmental Intensity (Op Inc)</th>\n",
       "      <th>Total Environmental Cost</th>\n",
       "      <th>Working Capacity</th>\n",
       "      <th>Fish Production Capacity</th>\n",
       "      <th>...</th>\n",
       "      <th>SDG 14.1</th>\n",
       "      <th>SDG 14.2</th>\n",
       "      <th>SDG 14.3</th>\n",
       "      <th>SDG 14.c</th>\n",
       "      <th>SDG 15.1</th>\n",
       "      <th>SDG 15.2</th>\n",
       "      <th>SDG 15.5</th>\n",
       "      <th>% Imputed</th>\n",
       "      <th>Revenue</th>\n",
       "      <th>Operating Income</th>\n",
       "    </tr>\n",
       "  </thead>\n",
       "  <tbody>\n",
       "    <tr>\n",
       "      <th>517</th>\n",
       "      <td>2019</td>\n",
       "      <td>MOLSON COORS BEVERAGE CO</td>\n",
       "      <td>UNITED STATES OF AMERICA</td>\n",
       "      <td>Brewers</td>\n",
       "      <td>Manufacture of beverages</td>\n",
       "      <td>-6.596233</td>\n",
       "      <td>-46.522794</td>\n",
       "      <td>-6.978419e+08</td>\n",
       "      <td>-2.950986e+08</td>\n",
       "      <td>-77656.206578</td>\n",
       "      <td>...</td>\n",
       "      <td>-1113.208360</td>\n",
       "      <td>-326.988191</td>\n",
       "      <td>-37024.568588</td>\n",
       "      <td>-1326.865949</td>\n",
       "      <td>15176.840942</td>\n",
       "      <td>15176.840942</td>\n",
       "      <td>-12261.768244</td>\n",
       "      <td>0.059202</td>\n",
       "      <td>1.057940e+10</td>\n",
       "      <td>1.500000e+09</td>\n",
       "    </tr>\n",
       "    <tr>\n",
       "      <th>523</th>\n",
       "      <td>2019</td>\n",
       "      <td>ANHEUSER-BUSCH INBEV</td>\n",
       "      <td>BELGIUM</td>\n",
       "      <td>Brewers</td>\n",
       "      <td>Manufacture of beverages</td>\n",
       "      <td>-3.388736</td>\n",
       "      <td>-11.492977</td>\n",
       "      <td>-1.778566e+09</td>\n",
       "      <td>-1.561186e+09</td>\n",
       "      <td>-391750.191978</td>\n",
       "      <td>...</td>\n",
       "      <td>-3914.291085</td>\n",
       "      <td>-325.789140</td>\n",
       "      <td>-190769.424529</td>\n",
       "      <td>-4665.559245</td>\n",
       "      <td>56659.806086</td>\n",
       "      <td>56659.806086</td>\n",
       "      <td>-64862.799133</td>\n",
       "      <td>0.080199</td>\n",
       "      <td>5.248464e+10</td>\n",
       "      <td>1.547524e+10</td>\n",
       "    </tr>\n",
       "    <tr>\n",
       "      <th>526</th>\n",
       "      <td>2019</td>\n",
       "      <td>CARLSBERG A/S</td>\n",
       "      <td>DENMARK</td>\n",
       "      <td>Brewers</td>\n",
       "      <td>Manufacture of beverages</td>\n",
       "      <td>-2.414563</td>\n",
       "      <td>-16.054846</td>\n",
       "      <td>-2.388141e+08</td>\n",
       "      <td>-1.962082e+08</td>\n",
       "      <td>-60262.712495</td>\n",
       "      <td>...</td>\n",
       "      <td>-1480.449400</td>\n",
       "      <td>-288.844325</td>\n",
       "      <td>-27951.868900</td>\n",
       "      <td>-1764.591400</td>\n",
       "      <td>19253.589023</td>\n",
       "      <td>19132.282417</td>\n",
       "      <td>-8148.334758</td>\n",
       "      <td>0.029599</td>\n",
       "      <td>9.890572e+09</td>\n",
       "      <td>1.487489e+09</td>\n",
       "    </tr>\n",
       "    <tr>\n",
       "      <th>530</th>\n",
       "      <td>2019</td>\n",
       "      <td>HEINEKEN HOLDING NV</td>\n",
       "      <td>NETHERLANDS</td>\n",
       "      <td>Brewers</td>\n",
       "      <td>Manufacture of beverages</td>\n",
       "      <td>-1.898778</td>\n",
       "      <td>-12.419412</td>\n",
       "      <td>-5.102237e+08</td>\n",
       "      <td>-4.329371e+08</td>\n",
       "      <td>-113003.339951</td>\n",
       "      <td>...</td>\n",
       "      <td>-1458.522182</td>\n",
       "      <td>-168.769751</td>\n",
       "      <td>-54528.158099</td>\n",
       "      <td>-1738.455701</td>\n",
       "      <td>20656.408130</td>\n",
       "      <td>20656.408130</td>\n",
       "      <td>-18050.980779</td>\n",
       "      <td>0.093336</td>\n",
       "      <td>2.687117e+10</td>\n",
       "      <td>4.108276e+09</td>\n",
       "    </tr>\n",
       "    <tr>\n",
       "      <th>532</th>\n",
       "      <td>2019</td>\n",
       "      <td>HEINEKEN NV</td>\n",
       "      <td>NETHERLANDS</td>\n",
       "      <td>Brewers</td>\n",
       "      <td>Manufacture of beverages</td>\n",
       "      <td>-1.709847</td>\n",
       "      <td>-10.508374</td>\n",
       "      <td>-4.594560e+08</td>\n",
       "      <td>-4.332461e+08</td>\n",
       "      <td>-113074.003951</td>\n",
       "      <td>...</td>\n",
       "      <td>-1458.522182</td>\n",
       "      <td>-168.769751</td>\n",
       "      <td>-54563.490099</td>\n",
       "      <td>-1738.455701</td>\n",
       "      <td>20656.408130</td>\n",
       "      <td>20656.408130</td>\n",
       "      <td>-18063.841679</td>\n",
       "      <td>0.101854</td>\n",
       "      <td>2.687117e+10</td>\n",
       "      <td>4.372284e+09</td>\n",
       "    </tr>\n",
       "  </tbody>\n",
       "</table>\n",
       "<p>5 rows × 36 columns</p>\n",
       "</div>"
      ],
      "text/plain": [
       "     Year              Company Name                   Country  \\\n",
       "517  2019  MOLSON COORS BEVERAGE CO  UNITED STATES OF AMERICA   \n",
       "523  2019      ANHEUSER-BUSCH INBEV                   BELGIUM   \n",
       "526  2019             CARLSBERG A/S                   DENMARK   \n",
       "530  2019       HEINEKEN HOLDING NV               NETHERLANDS   \n",
       "532  2019               HEINEKEN NV               NETHERLANDS   \n",
       "\n",
       "    GICS Sub-Industry       Industry (Exiobase)  \\\n",
       "517           Brewers  Manufacture of beverages   \n",
       "523           Brewers  Manufacture of beverages   \n",
       "526           Brewers  Manufacture of beverages   \n",
       "530           Brewers  Manufacture of beverages   \n",
       "532           Brewers  Manufacture of beverages   \n",
       "\n",
       "     Environmental Intensity (Sales)  Environmental Intensity (Op Inc)  \\\n",
       "517                        -6.596233                        -46.522794   \n",
       "523                        -3.388736                        -11.492977   \n",
       "526                        -2.414563                        -16.054846   \n",
       "530                        -1.898778                        -12.419412   \n",
       "532                        -1.709847                        -10.508374   \n",
       "\n",
       "     Total Environmental Cost  Working Capacity  Fish Production Capacity  \\\n",
       "517             -6.978419e+08     -2.950986e+08             -77656.206578   \n",
       "523             -1.778566e+09     -1.561186e+09            -391750.191978   \n",
       "526             -2.388141e+08     -1.962082e+08             -60262.712495   \n",
       "530             -5.102237e+08     -4.329371e+08            -113003.339951   \n",
       "532             -4.594560e+08     -4.332461e+08            -113074.003951   \n",
       "\n",
       "     ...     SDG 14.1    SDG 14.2       SDG 14.3     SDG 14.c      SDG 15.1  \\\n",
       "517  ... -1113.208360 -326.988191  -37024.568588 -1326.865949  15176.840942   \n",
       "523  ... -3914.291085 -325.789140 -190769.424529 -4665.559245  56659.806086   \n",
       "526  ... -1480.449400 -288.844325  -27951.868900 -1764.591400  19253.589023   \n",
       "530  ... -1458.522182 -168.769751  -54528.158099 -1738.455701  20656.408130   \n",
       "532  ... -1458.522182 -168.769751  -54563.490099 -1738.455701  20656.408130   \n",
       "\n",
       "         SDG 15.2      SDG 15.5  % Imputed       Revenue  Operating Income  \n",
       "517  15176.840942 -12261.768244   0.059202  1.057940e+10      1.500000e+09  \n",
       "523  56659.806086 -64862.799133   0.080199  5.248464e+10      1.547524e+10  \n",
       "526  19132.282417  -8148.334758   0.029599  9.890572e+09      1.487489e+09  \n",
       "530  20656.408130 -18050.980779   0.093336  2.687117e+10      4.108276e+09  \n",
       "532  20656.408130 -18063.841679   0.101854  2.687117e+10      4.372284e+09  \n",
       "\n",
       "[5 rows x 36 columns]"
      ]
     },
     "execution_count": 39,
     "metadata": {},
     "output_type": "execute_result"
    }
   ],
   "source": [
    "df_GICSBrew = df_cleaned[df_cleaned['GICS Sub-Industry'] == 'Brewers']\n",
    "\n",
    "# Group the data by \"Company Name\" and count unique years for each group\n",
    "company_years_count = df_GICSBrew.groupby(\"Company Name\")[\"Year\"].nunique()\n",
    "\n",
    "# Filter companies with at least 10 years of data\n",
    "filtered_companies = company_years_count[company_years_count >= 10].index\n",
    "\n",
    "# Create a new DataFrame with only the companies that meet the criteria\n",
    "df_GICSBrewFiltered = df_GICSBrew[df_GICSBrew[\"Company Name\"].isin(filtered_companies)]\n",
    "\n",
    "df_GICSBrewFiltered.head()"
   ]
  },
  {
   "cell_type": "code",
   "execution_count": 60,
   "metadata": {},
   "outputs": [],
   "source": [
    "y_brew_sales = df_cleaned[\"Environmental Intensity (Sales)\"]\n",
    "y_brew_opinc = df_cleaned[\"Environmental Intensity (Op Inc)\"]\n",
    "X_brew = df_GICSBrewFiltered[independentVariables]"
   ]
  },
  {
   "cell_type": "code",
   "execution_count": 61,
   "metadata": {},
   "outputs": [
    {
     "name": "stdout",
     "output_type": "stream",
     "text": [
      "Adjusted R-squared (Fixed on Year): -0.152248\n"
     ]
    }
   ],
   "source": [
    "list_effectNames = ['Year']\n",
    "adjusted_r_squared = runFixedEffects(X_brew,y_brew_sales,df_GICSBrewFiltered, list_effectNames)\n",
    "print(f'Adjusted R-squared (Fixed on Year): {adjusted_r_squared:.6f}')"
   ]
  },
  {
   "cell_type": "code",
   "execution_count": 62,
   "metadata": {},
   "outputs": [
    {
     "name": "stdout",
     "output_type": "stream",
     "text": [
      "Adjusted R-squared (Fixed on Year and GICS Sub-Industry): -0.1522\n"
     ]
    }
   ],
   "source": [
    "list_effectNames = ['Year', 'GICS Sub-Industry']\n",
    "adjusted_r_squared = runFixedEffects(X_brew,y_brew_sales,df_GICSBrewFiltered, list_effectNames)\n",
    "print(f'Adjusted R-squared (Fixed on Year and GICS Sub-Industry): {adjusted_r_squared:.4f}')"
   ]
  },
  {
   "cell_type": "code",
   "execution_count": 63,
   "metadata": {},
   "outputs": [
    {
     "name": "stdout",
     "output_type": "stream",
     "text": [
      "Adjusted R-squared (Fixed on Year and Industry (Exiobase)): -0.1522\n"
     ]
    }
   ],
   "source": [
    "list_effectNames = ['Year', 'Industry (Exiobase)']\n",
    "adjusted_r_squared = runFixedEffects(X_brew,y_brew_sales,df_GICSBrewFiltered, list_effectNames)\n",
    "print(f'Adjusted R-squared (Fixed on Year and Industry (Exiobase)): {adjusted_r_squared:.4f}')"
   ]
  },
  {
   "cell_type": "code",
   "execution_count": null,
   "metadata": {},
   "outputs": [],
   "source": []
  }
 ],
 "metadata": {
  "kernelspec": {
   "display_name": "Python 3",
   "language": "python",
   "name": "python3"
  },
  "language_info": {
   "codemirror_mode": {
    "name": "ipython",
    "version": 3
   },
   "file_extension": ".py",
   "mimetype": "text/x-python",
   "name": "python",
   "nbconvert_exporter": "python",
   "pygments_lexer": "ipython3",
   "version": "3.11.5"
  },
  "orig_nbformat": 4
 },
 "nbformat": 4,
 "nbformat_minor": 2
}
