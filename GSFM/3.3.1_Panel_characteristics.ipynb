{
 "cells": [
  {
   "attachments": {},
   "cell_type": "markdown",
   "metadata": {},
   "source": [
    "# Panel Regression - Firm Characteristics"
   ]
  },
  {
   "attachments": {},
   "cell_type": "markdown",
   "metadata": {},
   "source": [
    "A panel regression is a suitable regression method for analyzing our data, especially since you have quarterly data for multiple companies over a long period of time. A panel regression model accounts for both within-entity and between-entity variations, making it a useful tool to analyze data with a time series and cross-sectional dimension.  \n",
    "With panel data, we can control for individual-level characteristics that may affect forecast accuracy by including fixed effects for each company or industry. We can also account for time-specific factors that may affect forecast accuracy by including time fixed effects or time-varying covariates."
   ]
  },
  {
   "attachments": {},
   "cell_type": "markdown",
   "metadata": {},
   "source": [
    "### Random Effects Panel Regression"
   ]
  },
  {
   "cell_type": "code",
   "execution_count": 1,
   "metadata": {},
   "outputs": [],
   "source": [
    "import pandas as pd\n",
    "import numpy as np\n",
    "import datetime as dt\n",
    "import sklearn\n",
    "import statsmodels.api as sm\n",
    "from sklearn.linear_model import LinearRegression\n",
    "from sklearn.preprocessing import MinMaxScaler\n",
    "from sklearn.preprocessing import StandardScaler\n",
    "from linearmodels.panel import PanelOLS\n",
    "from linearmodels.panel import RandomEffects\n"
   ]
  },
  {
   "attachments": {},
   "cell_type": "markdown",
   "metadata": {},
   "source": [
    "Data"
   ]
  },
  {
   "cell_type": "code",
   "execution_count": 2,
   "metadata": {},
   "outputs": [
    {
     "data": {
      "text/plain": "      Instrument       Date GICS Industry Group Name  \\\n0          AVY.N 2013-01-01                Materials   \n1          AVY.N 2013-04-01                Materials   \n2          AVY.N 2013-07-01                Materials   \n3          AVY.N 2013-10-01                Materials   \n4          AVY.N 2014-01-01                Materials   \n...          ...        ...                      ...   \n18604    POOL.OQ 2021-10-01                Retailing   \n18605    POOL.OQ 2022-01-01                Retailing   \n18606    POOL.OQ 2022-04-01                Retailing   \n18607    POOL.OQ 2022-07-01                Retailing   \n18608    POOL.OQ 2022-10-01                Retailing   \n\n       Earnings Per Share - Actual Surprise AbsVals  Revenue - Actual  \\\n0                                          2.499631         -0.378055   \n1                                          1.247607         -0.380857   \n2                                          0.726582         -0.376364   \n3                                          2.207725         -0.380352   \n4                                          0.904623         -0.373706   \n...                                             ...               ...   \n18604                                      2.901092         -0.388214   \n18605                                      3.720063         -0.419838   \n18606                                      3.565072         -0.388113   \n18607                                      0.917490         -0.334002   \n18608                                      1.647889         -0.371061   \n\n       Market Capitalization  Earnings Per Share – Coefficient of Variation  \\\n0                  -0.392700                                      -0.170865   \n1                  -0.385490                                      -0.235084   \n2                  -0.385908                                      -0.255193   \n3                  -0.385784                                      -0.205410   \n4                  -0.380857                                      -0.187991   \n...                      ...                                            ...   \n18604              -0.278490                                      -0.202958   \n18605              -0.235483                                      -0.185330   \n18606              -0.282188                                      -0.048679   \n18607              -0.305930                                      -0.170880   \n18608              -0.317844                                      -0.161998   \n\n       loss firm status  \n0                    -1  \n1                    -1  \n2                    -1  \n3                    -1  \n4                    -1  \n...                 ...  \n18604                -1  \n18605                -1  \n18606                -1  \n18607                -1  \n18608                -1  \n\n[18609 rows x 8 columns]",
      "text/html": "<div>\n<style scoped>\n    .dataframe tbody tr th:only-of-type {\n        vertical-align: middle;\n    }\n\n    .dataframe tbody tr th {\n        vertical-align: top;\n    }\n\n    .dataframe thead th {\n        text-align: right;\n    }\n</style>\n<table border=\"1\" class=\"dataframe\">\n  <thead>\n    <tr style=\"text-align: right;\">\n      <th></th>\n      <th>Instrument</th>\n      <th>Date</th>\n      <th>GICS Industry Group Name</th>\n      <th>Earnings Per Share - Actual Surprise AbsVals</th>\n      <th>Revenue - Actual</th>\n      <th>Market Capitalization</th>\n      <th>Earnings Per Share – Coefficient of Variation</th>\n      <th>loss firm status</th>\n    </tr>\n  </thead>\n  <tbody>\n    <tr>\n      <th>0</th>\n      <td>AVY.N</td>\n      <td>2013-01-01</td>\n      <td>Materials</td>\n      <td>2.499631</td>\n      <td>-0.378055</td>\n      <td>-0.392700</td>\n      <td>-0.170865</td>\n      <td>-1</td>\n    </tr>\n    <tr>\n      <th>1</th>\n      <td>AVY.N</td>\n      <td>2013-04-01</td>\n      <td>Materials</td>\n      <td>1.247607</td>\n      <td>-0.380857</td>\n      <td>-0.385490</td>\n      <td>-0.235084</td>\n      <td>-1</td>\n    </tr>\n    <tr>\n      <th>2</th>\n      <td>AVY.N</td>\n      <td>2013-07-01</td>\n      <td>Materials</td>\n      <td>0.726582</td>\n      <td>-0.376364</td>\n      <td>-0.385908</td>\n      <td>-0.255193</td>\n      <td>-1</td>\n    </tr>\n    <tr>\n      <th>3</th>\n      <td>AVY.N</td>\n      <td>2013-10-01</td>\n      <td>Materials</td>\n      <td>2.207725</td>\n      <td>-0.380352</td>\n      <td>-0.385784</td>\n      <td>-0.205410</td>\n      <td>-1</td>\n    </tr>\n    <tr>\n      <th>4</th>\n      <td>AVY.N</td>\n      <td>2014-01-01</td>\n      <td>Materials</td>\n      <td>0.904623</td>\n      <td>-0.373706</td>\n      <td>-0.380857</td>\n      <td>-0.187991</td>\n      <td>-1</td>\n    </tr>\n    <tr>\n      <th>...</th>\n      <td>...</td>\n      <td>...</td>\n      <td>...</td>\n      <td>...</td>\n      <td>...</td>\n      <td>...</td>\n      <td>...</td>\n      <td>...</td>\n    </tr>\n    <tr>\n      <th>18604</th>\n      <td>POOL.OQ</td>\n      <td>2021-10-01</td>\n      <td>Retailing</td>\n      <td>2.901092</td>\n      <td>-0.388214</td>\n      <td>-0.278490</td>\n      <td>-0.202958</td>\n      <td>-1</td>\n    </tr>\n    <tr>\n      <th>18605</th>\n      <td>POOL.OQ</td>\n      <td>2022-01-01</td>\n      <td>Retailing</td>\n      <td>3.720063</td>\n      <td>-0.419838</td>\n      <td>-0.235483</td>\n      <td>-0.185330</td>\n      <td>-1</td>\n    </tr>\n    <tr>\n      <th>18606</th>\n      <td>POOL.OQ</td>\n      <td>2022-04-01</td>\n      <td>Retailing</td>\n      <td>3.565072</td>\n      <td>-0.388113</td>\n      <td>-0.282188</td>\n      <td>-0.048679</td>\n      <td>-1</td>\n    </tr>\n    <tr>\n      <th>18607</th>\n      <td>POOL.OQ</td>\n      <td>2022-07-01</td>\n      <td>Retailing</td>\n      <td>0.917490</td>\n      <td>-0.334002</td>\n      <td>-0.305930</td>\n      <td>-0.170880</td>\n      <td>-1</td>\n    </tr>\n    <tr>\n      <th>18608</th>\n      <td>POOL.OQ</td>\n      <td>2022-10-01</td>\n      <td>Retailing</td>\n      <td>1.647889</td>\n      <td>-0.371061</td>\n      <td>-0.317844</td>\n      <td>-0.161998</td>\n      <td>-1</td>\n    </tr>\n  </tbody>\n</table>\n<p>18609 rows × 8 columns</p>\n</div>"
     },
     "execution_count": 2,
     "metadata": {},
     "output_type": "execute_result"
    }
   ],
   "source": [
    "df = pd.read_csv(\"Dataframes/characteristics_regression.csv\")\n",
    "df[\"Date\"] = pd.to_datetime(df[\"Date\"])\n",
    "df"
   ]
  },
  {
   "attachments": {},
   "cell_type": "markdown",
   "metadata": {},
   "source": [
    "Standardising and log transformation"
   ]
  },
  {
   "attachments": {},
   "cell_type": "markdown",
   "metadata": {},
   "source": [
    "#### Fixed Effects Panel Regression"
   ]
  },
  {
   "attachments": {},
   "cell_type": "markdown",
   "metadata": {},
   "source": [
    "In a fixed effects panel regression, the individual-specific effects are modeled as fixed variables that do not vary across time. This means that the coefficients of the independent variables are estimated based on the within-entity variation in the data, which eliminates the effect of time-invariant unobserved heterogeneity.\n",
    "\n",
    "Fixed effects models are useful when there are time-invariant unobserved variables that may affect the dependent variable, but are not included in the model. By modeling the individual-specific effects as fixed variables, fixed effects models can control for this unobserved heterogeneity and estimate the coefficients of the independent variables based on the within-entity variation, which provides more efficient estimates of the coefficients.\n",
    "\n",
    "One limitation of fixed effects models is that they do not allow for testing the effect of time-invariant variables on the dependent variable. In addition, fixed effects models may suffer from the incidental parameter problem, which may lead to biased estimates of the coefficients of the independent variables in the presence of a large number of fixed effects."
   ]
  },
  {
   "cell_type": "code",
   "execution_count": 3,
   "metadata": {
    "collapsed": false
   },
   "outputs": [],
   "source": [
    "#reformatting indices of dataframe for panel regression\n",
    "df['Instrument'] = df['Instrument'].astype('category')\n",
    "df['Date'] = pd.to_datetime(df['Date'])\n",
    "\n",
    "# set the index to be the time variable and the cross-sectional variable\n",
    "df.set_index(['Instrument', 'Date'], inplace=True)\n",
    "#df_clean"
   ]
  },
  {
   "cell_type": "code",
   "execution_count": 4,
   "outputs": [
    {
     "data": {
      "text/plain": "                      GICS Industry Group Name  \\\nInstrument Date                                  \nAVY.N      2013-01-01                Materials   \n           2013-04-01                Materials   \n           2013-07-01                Materials   \n           2013-10-01                Materials   \n           2014-01-01                Materials   \n...                                        ...   \nPOOL.OQ    2021-10-01                Retailing   \n           2022-01-01                Retailing   \n           2022-04-01                Retailing   \n           2022-07-01                Retailing   \n           2022-10-01                Retailing   \n\n                       Earnings Per Share - Actual Surprise AbsVals  \\\nInstrument Date                                                       \nAVY.N      2013-01-01                                      2.499631   \n           2013-04-01                                      1.247607   \n           2013-07-01                                      0.726582   \n           2013-10-01                                      2.207725   \n           2014-01-01                                      0.904623   \n...                                                             ...   \nPOOL.OQ    2021-10-01                                      2.901092   \n           2022-01-01                                      3.720063   \n           2022-04-01                                      3.565072   \n           2022-07-01                                      0.917490   \n           2022-10-01                                      1.647889   \n\n                       Revenue - Actual  Market Capitalization  \\\nInstrument Date                                                  \nAVY.N      2013-01-01         -0.378055              -0.392700   \n           2013-04-01         -0.380857              -0.385490   \n           2013-07-01         -0.376364              -0.385908   \n           2013-10-01         -0.380352              -0.385784   \n           2014-01-01         -0.373706              -0.380857   \n...                                 ...                    ...   \nPOOL.OQ    2021-10-01         -0.388214              -0.278490   \n           2022-01-01         -0.419838              -0.235483   \n           2022-04-01         -0.388113              -0.282188   \n           2022-07-01         -0.334002              -0.305930   \n           2022-10-01         -0.371061              -0.317844   \n\n                       Earnings Per Share – Coefficient of Variation  \\\nInstrument Date                                                        \nAVY.N      2013-01-01                                      -0.170865   \n           2013-04-01                                      -0.235084   \n           2013-07-01                                      -0.255193   \n           2013-10-01                                      -0.205410   \n           2014-01-01                                      -0.187991   \n...                                                              ...   \nPOOL.OQ    2021-10-01                                      -0.202958   \n           2022-01-01                                      -0.185330   \n           2022-04-01                                      -0.048679   \n           2022-07-01                                      -0.170880   \n           2022-10-01                                      -0.161998   \n\n                       loss firm status  \nInstrument Date                          \nAVY.N      2013-01-01                -1  \n           2013-04-01                -1  \n           2013-07-01                -1  \n           2013-10-01                -1  \n           2014-01-01                -1  \n...                                 ...  \nPOOL.OQ    2021-10-01                -1  \n           2022-01-01                -1  \n           2022-04-01                -1  \n           2022-07-01                -1  \n           2022-10-01                -1  \n\n[18609 rows x 6 columns]",
      "text/html": "<div>\n<style scoped>\n    .dataframe tbody tr th:only-of-type {\n        vertical-align: middle;\n    }\n\n    .dataframe tbody tr th {\n        vertical-align: top;\n    }\n\n    .dataframe thead th {\n        text-align: right;\n    }\n</style>\n<table border=\"1\" class=\"dataframe\">\n  <thead>\n    <tr style=\"text-align: right;\">\n      <th></th>\n      <th></th>\n      <th>GICS Industry Group Name</th>\n      <th>Earnings Per Share - Actual Surprise AbsVals</th>\n      <th>Revenue - Actual</th>\n      <th>Market Capitalization</th>\n      <th>Earnings Per Share – Coefficient of Variation</th>\n      <th>loss firm status</th>\n    </tr>\n    <tr>\n      <th>Instrument</th>\n      <th>Date</th>\n      <th></th>\n      <th></th>\n      <th></th>\n      <th></th>\n      <th></th>\n      <th></th>\n    </tr>\n  </thead>\n  <tbody>\n    <tr>\n      <th rowspan=\"5\" valign=\"top\">AVY.N</th>\n      <th>2013-01-01</th>\n      <td>Materials</td>\n      <td>2.499631</td>\n      <td>-0.378055</td>\n      <td>-0.392700</td>\n      <td>-0.170865</td>\n      <td>-1</td>\n    </tr>\n    <tr>\n      <th>2013-04-01</th>\n      <td>Materials</td>\n      <td>1.247607</td>\n      <td>-0.380857</td>\n      <td>-0.385490</td>\n      <td>-0.235084</td>\n      <td>-1</td>\n    </tr>\n    <tr>\n      <th>2013-07-01</th>\n      <td>Materials</td>\n      <td>0.726582</td>\n      <td>-0.376364</td>\n      <td>-0.385908</td>\n      <td>-0.255193</td>\n      <td>-1</td>\n    </tr>\n    <tr>\n      <th>2013-10-01</th>\n      <td>Materials</td>\n      <td>2.207725</td>\n      <td>-0.380352</td>\n      <td>-0.385784</td>\n      <td>-0.205410</td>\n      <td>-1</td>\n    </tr>\n    <tr>\n      <th>2014-01-01</th>\n      <td>Materials</td>\n      <td>0.904623</td>\n      <td>-0.373706</td>\n      <td>-0.380857</td>\n      <td>-0.187991</td>\n      <td>-1</td>\n    </tr>\n    <tr>\n      <th>...</th>\n      <th>...</th>\n      <td>...</td>\n      <td>...</td>\n      <td>...</td>\n      <td>...</td>\n      <td>...</td>\n      <td>...</td>\n    </tr>\n    <tr>\n      <th rowspan=\"5\" valign=\"top\">POOL.OQ</th>\n      <th>2021-10-01</th>\n      <td>Retailing</td>\n      <td>2.901092</td>\n      <td>-0.388214</td>\n      <td>-0.278490</td>\n      <td>-0.202958</td>\n      <td>-1</td>\n    </tr>\n    <tr>\n      <th>2022-01-01</th>\n      <td>Retailing</td>\n      <td>3.720063</td>\n      <td>-0.419838</td>\n      <td>-0.235483</td>\n      <td>-0.185330</td>\n      <td>-1</td>\n    </tr>\n    <tr>\n      <th>2022-04-01</th>\n      <td>Retailing</td>\n      <td>3.565072</td>\n      <td>-0.388113</td>\n      <td>-0.282188</td>\n      <td>-0.048679</td>\n      <td>-1</td>\n    </tr>\n    <tr>\n      <th>2022-07-01</th>\n      <td>Retailing</td>\n      <td>0.917490</td>\n      <td>-0.334002</td>\n      <td>-0.305930</td>\n      <td>-0.170880</td>\n      <td>-1</td>\n    </tr>\n    <tr>\n      <th>2022-10-01</th>\n      <td>Retailing</td>\n      <td>1.647889</td>\n      <td>-0.371061</td>\n      <td>-0.317844</td>\n      <td>-0.161998</td>\n      <td>-1</td>\n    </tr>\n  </tbody>\n</table>\n<p>18609 rows × 6 columns</p>\n</div>"
     },
     "execution_count": 4,
     "metadata": {},
     "output_type": "execute_result"
    }
   ],
   "source": [
    "df"
   ],
   "metadata": {
    "collapsed": false
   }
  },
  {
   "attachments": {},
   "cell_type": "markdown",
   "metadata": {},
   "source": [
    "Regression with **Absolute** Surprise Values"
   ]
  },
  {
   "cell_type": "code",
   "execution_count": 5,
   "metadata": {
    "collapsed": false
   },
   "outputs": [
    {
     "name": "stderr",
     "output_type": "stream",
     "text": [
      "C:\\Users\\alexa\\mambaforge\\envs\\AnalystForecast\\Lib\\site-packages\\linearmodels\\panel\\model.py:1183: MissingValueWarning: \n",
      "Inputs contain missing values. Dropping rows with missing observations.\n",
      "  super().__init__(dependent, exog, weights=weights, check_rank=check_rank)\n"
     ]
    },
    {
     "data": {
      "text/plain": "<class 'linearmodels.compat.statsmodels.Summary'>\n\"\"\"\n                                       PanelOLS Estimation Summary                                        \n==========================================================================================================\nDep. Variable:     Earnings Per Share - Actual Surprise AbsVals   R-squared:                        0.0479\nEstimator:                                             PanelOLS   R-squared (Between):             -0.0456\nNo. Observations:                                         18541   R-squared (Within):               0.0539\nDate:                                          Wed, Mar 08 2023   R-squared (Overall):             -0.0407\nTime:                                                  16:38:11   Log-likelihood                -2.349e+04\nCov. Estimator:                                      Unadjusted                                           \n                                                                  F-statistic:                      226.57\nEntities:                                                   502   P-value                           0.0000\nAvg Obs:                                                 36.934   Distribution:                 F(4,17996)\nMin Obs:                                                 2.0000                                           \nMax Obs:                                                 40.000   F-statistic (robust):             226.57\n                                                                  P-value                           0.0000\nTime periods:                                                40   Distribution:                 F(4,17996)\nAvg Obs:                                                 463.52                                           \nMin Obs:                                                 416.00                                           \nMax Obs:                                                 490.00                                           \n                                                                                                          \n                                               Parameter Estimates                                               \n=================================================================================================================\n                                               Parameter  Std. Err.     T-stat    P-value    Lower CI    Upper CI\n-----------------------------------------------------------------------------------------------------------------\nRevenue - Actual                                 -0.0422     0.0276    -1.5307     0.1259     -0.0962      0.0118\nMarket Capitalization                            -0.0070     0.0152    -0.4622     0.6439     -0.0369      0.0228\nEarnings Per Share – Coefficient of Variation     0.2016     0.0071     28.220     0.0000      0.1876      0.2156\nloss firm status                                  0.0874     0.0157     5.5635     0.0000      0.0566      0.1182\n=================================================================================================================\n\nF-test for Poolability: 14.730\nP-value: 0.0000\nDistribution: F(540,17996)\n\nIncluded effects: Entity, Time\n\"\"\"",
      "text/html": "<table class=\"simpletable\">\n<caption>PanelOLS Estimation Summary</caption>\n<tr>\n  <th>Dep. Variable:</th>    <td>Earnings Per Share - Actual Surprise AbsVals</td> <th>  R-squared:         </th>     <td>0.0479</td>  \n</tr>\n<tr>\n  <th>Estimator:</th>                          <td>PanelOLS</td>                   <th>  R-squared (Between):</th>    <td>-0.0456</td> \n</tr>\n<tr>\n  <th>No. Observations:</th>                     <td>18541</td>                    <th>  R-squared (Within):</th>     <td>0.0539</td>  \n</tr>\n<tr>\n  <th>Date:</th>                           <td>Wed, Mar 08 2023</td>               <th>  R-squared (Overall):</th>    <td>-0.0407</td> \n</tr>\n<tr>\n  <th>Time:</th>                               <td>16:38:11</td>                   <th>  Log-likelihood     </th>   <td>-2.349e+04</td>\n</tr>\n<tr>\n  <th>Cov. Estimator:</th>                    <td>Unadjusted</td>                  <th>                     </th>        <td></td>     \n</tr>\n<tr>\n  <th></th>                                        <td></td>                       <th>  F-statistic:       </th>     <td>226.57</td>  \n</tr>\n<tr>\n  <th>Entities:</th>                              <td>502</td>                     <th>  P-value            </th>     <td>0.0000</td>  \n</tr>\n<tr>\n  <th>Avg Obs:</th>                             <td>36.934</td>                    <th>  Distribution:      </th>   <td>F(4,17996)</td>\n</tr>\n<tr>\n  <th>Min Obs:</th>                             <td>2.0000</td>                    <th>                     </th>        <td></td>     \n</tr>\n<tr>\n  <th>Max Obs:</th>                             <td>40.000</td>                    <th>  F-statistic (robust):</th>   <td>226.57</td>  \n</tr>\n<tr>\n  <th></th>                                        <td></td>                       <th>  P-value            </th>     <td>0.0000</td>  \n</tr>\n<tr>\n  <th>Time periods:</th>                          <td>40</td>                      <th>  Distribution:      </th>   <td>F(4,17996)</td>\n</tr>\n<tr>\n  <th>Avg Obs:</th>                             <td>463.52</td>                    <th>                     </th>        <td></td>     \n</tr>\n<tr>\n  <th>Min Obs:</th>                             <td>416.00</td>                    <th>                     </th>        <td></td>     \n</tr>\n<tr>\n  <th>Max Obs:</th>                             <td>490.00</td>                    <th>                     </th>        <td></td>     \n</tr>\n<tr>\n  <th></th>                                        <td></td>                       <th>                     </th>        <td></td>     \n</tr>\n</table>\n<table class=\"simpletable\">\n<caption>Parameter Estimates</caption>\n<tr>\n                        <td></td>                        <th>Parameter</th> <th>Std. Err.</th> <th>T-stat</th>  <th>P-value</th> <th>Lower CI</th> <th>Upper CI</th>\n</tr>\n<tr>\n  <th>Revenue - Actual</th>                               <td>-0.0422</td>   <td>0.0276</td>   <td>-1.5307</td> <td>0.1259</td>   <td>-0.0962</td>  <td>0.0118</td> \n</tr>\n<tr>\n  <th>Market Capitalization</th>                          <td>-0.0070</td>   <td>0.0152</td>   <td>-0.4622</td> <td>0.6439</td>   <td>-0.0369</td>  <td>0.0228</td> \n</tr>\n<tr>\n  <th>Earnings Per Share – Coefficient of Variation</th>  <td>0.2016</td>    <td>0.0071</td>   <td>28.220</td>  <td>0.0000</td>   <td>0.1876</td>   <td>0.2156</td> \n</tr>\n<tr>\n  <th>loss firm status</th>                               <td>0.0874</td>    <td>0.0157</td>   <td>5.5635</td>  <td>0.0000</td>   <td>0.0566</td>   <td>0.1182</td> \n</tr>\n</table><br/><br/>F-test for Poolability: 14.730<br/>P-value: 0.0000<br/>Distribution: F(540,17996)<br/><br/>Included effects: Entity, Time"
     },
     "execution_count": 5,
     "metadata": {},
     "output_type": "execute_result"
    }
   ],
   "source": [
    "y = df.loc[:, \"Earnings Per Share - Actual Surprise AbsVals\"]\n",
    "X = df.loc[:, \"Revenue - Actual\":]\n",
    "\n",
    "# perform the fixed effects panel regression\n",
    "fixed_effects_model = PanelOLS(y, X, entity_effects=True, time_effects=True)\n",
    "\n",
    "# fit the model and print the summary statistics\n",
    "fixed_effects_results = fixed_effects_model.fit()\n",
    "fixed_effects_results.summary\n"
   ]
  },
  {
   "attachments": {},
   "cell_type": "markdown",
   "metadata": {},
   "source": [
    "#### By Industry: Example Tech Industry"
   ]
  },
  {
   "attachments": {},
   "cell_type": "markdown",
   "metadata": {},
   "source": [
    "With Absolute Surprise Values"
   ]
  },
  {
   "cell_type": "code",
   "execution_count": 14,
   "metadata": {},
   "outputs": [
    {
     "name": "stderr",
     "output_type": "stream",
     "text": [
      "/var/folders/tj/07dch2wn75v90cdvrd8w0xm80000gn/T/ipykernel_69082/3204827800.py:3: SettingWithCopyWarning: \n",
      "A value is trying to be set on a copy of a slice from a DataFrame.\n",
      "Try using .loc[row_indexer,col_indexer] = value instead\n",
      "\n",
      "See the caveats in the documentation: https://pandas.pydata.org/pandas-docs/stable/user_guide/indexing.html#returning-a-view-versus-a-copy\n",
      "  group['Instrument'] = group['Instrument'].astype('category')\n",
      "/var/folders/tj/07dch2wn75v90cdvrd8w0xm80000gn/T/ipykernel_69082/3204827800.py:4: SettingWithCopyWarning: \n",
      "A value is trying to be set on a copy of a slice from a DataFrame.\n",
      "Try using .loc[row_indexer,col_indexer] = value instead\n",
      "\n",
      "See the caveats in the documentation: https://pandas.pydata.org/pandas-docs/stable/user_guide/indexing.html#returning-a-view-versus-a-copy\n",
      "  group['Date'] = pd.to_datetime(group['Date'])\n",
      "/Users/ginevrabramante/opt/anaconda3/envs/AnalystForecast/lib/python3.11/site-packages/linearmodels/panel/model.py:1183: MissingValueWarning: \n",
      "Inputs contain missing values. Dropping rows with missing observations.\n",
      "  super().__init__(dependent, exog, weights=weights, check_rank=check_rank)\n"
     ]
    },
    {
     "data": {
      "text/html": [
       "<table class=\"simpletable\">\n",
       "<caption>PanelOLS Estimation Summary</caption>\n",
       "<tr>\n",
       "  <th>Dep. Variable:</th>    <td>Earnings Per Share - Actual Surprise AbsVals</td> <th>  R-squared:         </th>    <td>0.0281</td> \n",
       "</tr>\n",
       "<tr>\n",
       "  <th>Estimator:</th>                          <td>PanelOLS</td>                   <th>  R-squared (Between):</th>   <td>-0.1188</td>\n",
       "</tr>\n",
       "<tr>\n",
       "  <th>No. Observations:</th>                      <td>728</td>                     <th>  R-squared (Within):</th>    <td>0.0361</td> \n",
       "</tr>\n",
       "<tr>\n",
       "  <th>Date:</th>                           <td>Tue, Mar 07 2023</td>               <th>  R-squared (Overall):</th>   <td>-0.0972</td>\n",
       "</tr>\n",
       "<tr>\n",
       "  <th>Time:</th>                               <td>20:19:03</td>                   <th>  Log-likelihood     </th>    <td>-842.14</td>\n",
       "</tr>\n",
       "<tr>\n",
       "  <th>Cov. Estimator:</th>                    <td>Unadjusted</td>                  <th>                     </th>       <td></td>    \n",
       "</tr>\n",
       "<tr>\n",
       "  <th></th>                                        <td></td>                       <th>  F-statistic:       </th>    <td>3.1984</td> \n",
       "</tr>\n",
       "<tr>\n",
       "  <th>Entities:</th>                              <td>19</td>                      <th>  P-value            </th>    <td>0.0042</td> \n",
       "</tr>\n",
       "<tr>\n",
       "  <th>Avg Obs:</th>                             <td>38.316</td>                    <th>  Distribution:      </th>   <td>F(6,664)</td>\n",
       "</tr>\n",
       "<tr>\n",
       "  <th>Min Obs:</th>                             <td>27.000</td>                    <th>                     </th>       <td></td>    \n",
       "</tr>\n",
       "<tr>\n",
       "  <th>Max Obs:</th>                             <td>40.000</td>                    <th>  F-statistic (robust):</th>  <td>3.1984</td> \n",
       "</tr>\n",
       "<tr>\n",
       "  <th></th>                                        <td></td>                       <th>  P-value            </th>    <td>0.0042</td> \n",
       "</tr>\n",
       "<tr>\n",
       "  <th>Time periods:</th>                          <td>40</td>                      <th>  Distribution:      </th>   <td>F(6,664)</td>\n",
       "</tr>\n",
       "<tr>\n",
       "  <th>Avg Obs:</th>                             <td>18.200</td>                    <th>                     </th>       <td></td>    \n",
       "</tr>\n",
       "<tr>\n",
       "  <th>Min Obs:</th>                             <td>15.000</td>                    <th>                     </th>       <td></td>    \n",
       "</tr>\n",
       "<tr>\n",
       "  <th>Max Obs:</th>                             <td>19.000</td>                    <th>                     </th>       <td></td>    \n",
       "</tr>\n",
       "<tr>\n",
       "  <th></th>                                        <td></td>                       <th>                     </th>       <td></td>    \n",
       "</tr>\n",
       "</table>\n",
       "<table class=\"simpletable\">\n",
       "<caption>Parameter Estimates</caption>\n",
       "<tr>\n",
       "                           <td></td>                           <th>Parameter</th> <th>Std. Err.</th> <th>T-stat</th>  <th>P-value</th> <th>Lower CI</th> <th>Upper CI</th>\n",
       "</tr>\n",
       "<tr>\n",
       "  <th>Revenue - Actual</th>                                     <td>-0.1008</td>   <td>0.1082</td>   <td>-0.9318</td> <td>0.3518</td>   <td>-0.3132</td>  <td>0.1116</td> \n",
       "</tr>\n",
       "<tr>\n",
       "  <th>Market Capitalization</th>                                <td>0.0494</td>    <td>0.0340</td>   <td>1.4518</td>  <td>0.1470</td>   <td>-0.0174</td>  <td>0.1163</td> \n",
       "</tr>\n",
       "<tr>\n",
       "  <th>Enterprise Value To Sales (Daily Time Series Ratio)</th>  <td>-0.3090</td>   <td>0.4395</td>   <td>-0.7031</td> <td>0.4823</td>   <td>-1.1719</td>  <td>0.5540</td> \n",
       "</tr>\n",
       "<tr>\n",
       "  <th>3 Month Total Return</th>                                 <td>0.1077</td>    <td>0.0395</td>   <td>2.7279</td>  <td>0.0065</td>   <td>0.0302</td>   <td>0.1852</td> \n",
       "</tr>\n",
       "<tr>\n",
       "  <th>Volume</th>                                               <td>0.0069</td>    <td>0.0169</td>   <td>0.4054</td>  <td>0.6853</td>   <td>-0.0263</td>  <td>0.0400</td> \n",
       "</tr>\n",
       "<tr>\n",
       "  <th>loss firm status</th>                                     <td>0.2138</td>    <td>0.0702</td>   <td>3.0449</td>  <td>0.0024</td>   <td>0.0759</td>   <td>0.3517</td> \n",
       "</tr>\n",
       "</table><br/><br/>F-test for Poolability: 2.5591<br/>P-value: 0.0000<br/>Distribution: F(57,664)<br/><br/>Included effects: Entity, Time<br/>id: 0x171ab47d0"
      ],
      "text/plain": [
       "                                       PanelOLS Estimation Summary                                        \n",
       "==========================================================================================================\n",
       "Dep. Variable:     Earnings Per Share - Actual Surprise AbsVals   R-squared:                        0.0281\n",
       "Estimator:                                             PanelOLS   R-squared (Between):             -0.1188\n",
       "No. Observations:                                           728   R-squared (Within):               0.0361\n",
       "Date:                                          Tue, Mar 07 2023   R-squared (Overall):             -0.0972\n",
       "Time:                                                  20:19:03   Log-likelihood                   -842.14\n",
       "Cov. Estimator:                                      Unadjusted                                           \n",
       "                                                                  F-statistic:                      3.1984\n",
       "Entities:                                                    19   P-value                           0.0042\n",
       "Avg Obs:                                                 38.316   Distribution:                   F(6,664)\n",
       "Min Obs:                                                 27.000                                           \n",
       "Max Obs:                                                 40.000   F-statistic (robust):             3.1984\n",
       "                                                                  P-value                           0.0042\n",
       "Time periods:                                                40   Distribution:                   F(6,664)\n",
       "Avg Obs:                                                 18.200                                           \n",
       "Min Obs:                                                 15.000                                           \n",
       "Max Obs:                                                 19.000                                           \n",
       "                                                                                                          \n",
       "                                                  Parameter Estimates                                                  \n",
       "=======================================================================================================================\n",
       "                                                     Parameter  Std. Err.     T-stat    P-value    Lower CI    Upper CI\n",
       "-----------------------------------------------------------------------------------------------------------------------\n",
       "Revenue - Actual                                       -0.1008     0.1082    -0.9318     0.3518     -0.3132      0.1116\n",
       "Market Capitalization                                   0.0494     0.0340     1.4518     0.1470     -0.0174      0.1163\n",
       "Enterprise Value To Sales (Daily Time Series Ratio)    -0.3090     0.4395    -0.7031     0.4823     -1.1719      0.5540\n",
       "3 Month Total Return                                    0.1077     0.0395     2.7279     0.0065      0.0302      0.1852\n",
       "Volume                                                  0.0069     0.0169     0.4054     0.6853     -0.0263      0.0400\n",
       "loss firm status                                        0.2138     0.0702     3.0449     0.0024      0.0759      0.3517\n",
       "=======================================================================================================================\n",
       "\n",
       "F-test for Poolability: 2.5591\n",
       "P-value: 0.0000\n",
       "Distribution: F(57,664)\n",
       "\n",
       "Included effects: Entity, Time\n",
       "PanelEffectsResults, id: 0x171ab47d0"
      ]
     },
     "execution_count": 14,
     "metadata": {},
     "output_type": "execute_result"
    }
   ],
   "source": [
    "group = df_panel[df_panel['GICS Industry Group Name'] == 'Technology Hardware & Equipment']\n",
    "\n",
    "group['Instrument'] = group['Instrument'].astype('category')\n",
    "group['Date'] = pd.to_datetime(group['Date'])\n",
    "group.set_index(['Instrument', 'Date'], inplace=True)\n",
    "\n",
    "y = group.loc[:, \"Earnings Per Share - Actual Surprise AbsVals\"]\n",
    "X = group.loc[:, \"Revenue - Actual\":]\n",
    "\n",
    "model = PanelOLS(y, X, entity_effects=True, time_effects=True).fit()\n",
    "model"
   ]
  },
  {
   "cell_type": "code",
   "execution_count": null,
   "metadata": {
    "collapsed": false
   },
   "outputs": [],
   "source": []
  }
 ],
 "metadata": {
  "kernelspec": {
   "display_name": "AnalystForecast",
   "language": "python",
   "name": "python3"
  },
  "language_info": {
   "codemirror_mode": {
    "name": "ipython",
    "version": 3
   },
   "file_extension": ".py",
   "mimetype": "text/x-python",
   "name": "python",
   "nbconvert_exporter": "python",
   "pygments_lexer": "ipython3",
   "version": "3.11.0"
  },
  "orig_nbformat": 4,
  "vscode": {
   "interpreter": {
    "hash": "264d128b47a19451ae7876f5ee246d3f7de9751940a5ebe47f15ec6626e5a91f"
   }
  }
 },
 "nbformat": 4,
 "nbformat_minor": 2
}
